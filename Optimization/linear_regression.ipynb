{
 "cells": [
  {
   "cell_type": "code",
   "execution_count": 1,
   "metadata": {},
   "outputs": [],
   "source": [
    "import pandas as pd\n",
    "import numpy as np\n",
    "from scipy import optimize"
   ]
  },
  {
   "cell_type": "code",
   "execution_count": 2,
   "metadata": {},
   "outputs": [],
   "source": [
    "df = pd.read_csv('possum.csv')"
   ]
  },
  {
   "cell_type": "code",
   "execution_count": 18,
   "metadata": {},
   "outputs": [],
   "source": [
    "df.head()\n",
    "df = df.dropna(subset=['age', 'hdlngth', 'skullw', 'totlngth', 'taill'])"
   ]
  },
  {
   "cell_type": "code",
   "execution_count": 19,
   "metadata": {},
   "outputs": [],
   "source": [
    "features = ['hdlngth', 'skullw', 'totlngth', 'taill']\n",
    "X = np.array(df[features])\n",
    "y = np.array(df['age'])"
   ]
  },
  {
   "cell_type": "code",
   "execution_count": 20,
   "metadata": {},
   "outputs": [],
   "source": [
    "from sklearn.preprocessing import MinMaxScaler\n",
    "scaler = MinMaxScaler()\n",
    "scaler.fit(X)\n",
    "X_scaled = scaler.transform(X)"
   ]
  },
  {
   "cell_type": "code",
   "execution_count": 21,
   "metadata": {},
   "outputs": [],
   "source": [
    "X_scaled = np.c_[np.ones(X_scaled.shape[0]), X_scaled]"
   ]
  },
  {
   "cell_type": "code",
   "execution_count": 22,
   "metadata": {},
   "outputs": [],
   "source": [
    "def f(beta):\n",
    "    return X_scaled@beta - y\n",
    "    "
   ]
  },
  {
   "cell_type": "code",
   "execution_count": 26,
   "metadata": {},
   "outputs": [],
   "source": [
    "beta_0 = 0.1 * np.array([1, 1, 1, 1, 1])\n",
    "beta = optimize.least_squares(f, beta_0)"
   ]
  },
  {
   "cell_type": "code",
   "execution_count": 33,
   "metadata": {},
   "outputs": [
    {
     "data": {
      "text/plain": [
       "array([ 1.895393  ,  2.06051363,  1.34168125,  0.78667356, -0.06681448])"
      ]
     },
     "execution_count": 33,
     "metadata": {},
     "output_type": "execute_result"
    }
   ],
   "source": [
    "beta.x"
   ]
  },
  {
   "cell_type": "code",
   "execution_count": 31,
   "metadata": {},
   "outputs": [
    {
     "data": {
      "text/plain": [
       "array([ 0.        ,  2.06051347,  1.34168141,  0.7866734 , -0.06681415])"
      ]
     },
     "execution_count": 31,
     "metadata": {},
     "output_type": "execute_result"
    }
   ],
   "source": [
    "# consider an linear model y = X*beta\n",
    "from sklearn.linear_model import LinearRegression\n",
    "reg = LinearRegression().fit(X_scaled, y)\n",
    "reg.coef_\n"
   ]
  },
  {
   "cell_type": "code",
   "execution_count": 34,
   "metadata": {},
   "outputs": [
    {
     "data": {
      "text/plain": [
       "1.8953929638857794"
      ]
     },
     "execution_count": 34,
     "metadata": {},
     "output_type": "execute_result"
    }
   ],
   "source": [
    "reg.intercept_"
   ]
  },
  {
   "cell_type": "code",
   "execution_count": 50,
   "metadata": {},
   "outputs": [],
   "source": [
    "# consider an exponential model y = A*e^(Xw)\n",
    "# subject to sum(w)=1, 0<=w<=1\n",
    "def g(w):\n",
    "    return 0.5 * np.linalg.norm(X_scaled@w - np.log(y))**2"
   ]
  },
  {
   "cell_type": "code",
   "execution_count": 52,
   "metadata": {},
   "outputs": [],
   "source": [
    "from scipy.optimize import LinearConstraint, Bounds\n",
    "w_0 = 0.1 * np.array([1, 1, 1, 1, 1])\n",
    "equality_conatraints = LinearConstraint([[1, 1, 1, 1, 0]], \n",
    "                                        [0], [1])\n",
    "bounds = Bounds([0, 0, 0, 0, -np.inf], [1, 1, 1, 1, np.inf])\n",
    "w = optimize.minimize(g, w_0,\n",
    "                      constraints=equality_conatraints,\n",
    "                      bounds=bounds)"
   ]
  },
  {
   "cell_type": "code",
   "execution_count": 60,
   "metadata": {},
   "outputs": [
    {
     "data": {
      "text/plain": [
       " message: Optimization terminated successfully\n",
       " success: True\n",
       "  status: 0\n",
       "     fun: 15.143357531840307\n",
       "       x: [ 5.729e-01  4.271e-01  1.581e-14  1.575e-14  8.342e-01]\n",
       "     nit: 5\n",
       "     jac: [-3.683e+00 -3.683e+00 -2.868e+00 -2.932e+00 -9.537e-07]\n",
       "    nfev: 32\n",
       "    njev: 5"
      ]
     },
     "execution_count": 60,
     "metadata": {},
     "output_type": "execute_result"
    }
   ],
   "source": [
    "w"
   ]
  },
  {
   "cell_type": "code",
   "execution_count": null,
   "metadata": {},
   "outputs": [],
   "source": []
  }
 ],
 "metadata": {
  "kernelspec": {
   "display_name": "pydata-book",
   "language": "python",
   "name": "python3"
  },
  "language_info": {
   "codemirror_mode": {
    "name": "ipython",
    "version": 3
   },
   "file_extension": ".py",
   "mimetype": "text/x-python",
   "name": "python",
   "nbconvert_exporter": "python",
   "pygments_lexer": "ipython3",
   "version": "3.10.14"
  }
 },
 "nbformat": 4,
 "nbformat_minor": 2
}
